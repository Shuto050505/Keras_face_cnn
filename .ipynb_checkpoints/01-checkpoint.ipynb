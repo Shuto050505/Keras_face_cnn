{
 "cells": [
  {
   "cell_type": "code",
   "execution_count": 89,
   "metadata": {
    "ExecuteTime": {
     "end_time": "2017-03-08T02:03:26.901584",
     "start_time": "2017-03-08T02:03:26.897584"
    },
    "collapsed": true
   },
   "outputs": [],
   "source": [
    "import cv2\n",
    "import glob\n",
    "import os\n",
    "import numpy as np"
   ]
  },
  {
   "cell_type": "code",
   "execution_count": 90,
   "metadata": {
    "ExecuteTime": {
     "end_time": "2017-03-08T02:03:27.341515",
     "start_time": "2017-03-08T02:03:27.338501"
    },
    "collapsed": true
   },
   "outputs": [],
   "source": [
    "img_rows, img_cols = 56, 56"
   ]
  },
  {
   "cell_type": "code",
   "execution_count": 91,
   "metadata": {
    "ExecuteTime": {
     "end_time": "2017-03-08T02:03:28.132837",
     "start_time": "2017-03-08T02:03:28.113787"
    },
    "collapsed": false
   },
   "outputs": [
    {
     "name": "stdout",
     "output_type": "stream",
     "text": [
      "['.\\\\picts\\\\1', '.\\\\picts\\\\2', '.\\\\picts\\\\3', '.\\\\picts\\\\4', '.\\\\picts\\\\5']\n"
     ]
    }
   ],
   "source": [
    "#フォルダパスとラベルがセットにされた配列のリスト\n",
    "pathsAndLabels = []\n",
    "\n",
    "data_list = glob.glob(\".\\\\picts\\\\*\")\n",
    "print(data_list)\n",
    "label_i = 0\n",
    "for datafinderName in data_list:\n",
    "        pathsAndLabels.append(np.asarray([datafinderName+\"/\", label_i]))\n",
    "        label_i = label_i + 1\n",
    "        \n",
    "#全データを配列に入れてからシャッフルする。\n",
    "allData = []\n",
    "for pathAndLabel in pathsAndLabels: #ここは人数分の5回まわる\n",
    "    path = pathAndLabel[0] #その人の画像が入ったディレクトリ\n",
    "    label = pathAndLabel[1] #その人のラベル\n",
    "    imagelist = glob.glob(path + \"*\") # glob(ディレクトリ/*)とすることで当てはまるファイル名を取ってくる\n",
    "    for imgName in imagelist: #その人の画像ファイル数、回る\n",
    "        allData.append([imgName, label])\n",
    "allData = np.random.permutation(allData) #シャッフルする"
   ]
  },
  {
   "cell_type": "code",
   "execution_count": 111,
   "metadata": {
    "ExecuteTime": {
     "end_time": "2017-03-08T02:09:31.281028",
     "start_time": "2017-03-08T02:09:30.582026"
    },
    "collapsed": false
   },
   "outputs": [],
   "source": [
    "channels = 3\n",
    "imageData = []\n",
    "labelData = []\n",
    "for pathAndLabel in allData:\n",
    "    img_path = pathAndLabel[0].replace(\"\\\\\", \"/\") # 画像のパス\n",
    "    img = cv2.imread(img_path)  # 画像を読み込む\n",
    "    img = cv2.resize(img, (img_rows, img_cols))\n",
    "    img/255.0\n",
    "    if channels == 1:\n",
    "        img = cv2.cvtColor(img, cv2.COLOR_RGB2GRAY)\n",
    "    else:\n",
    "        imageData.append(img)\n",
    "        labelData.append(np.int32(pathAndLabel[1]))\n",
    "imageData = np.array(imageData)\n",
    "labelData = np.array(labelData)\n",
    "labelData = labelData.reshape(labelData.shape[0],1)"
   ]
  }
 ],
 "metadata": {
  "kernelspec": {
   "display_name": "Python [conda root]",
   "language": "python",
   "name": "conda-root-py"
  },
  "language_info": {
   "codemirror_mode": {
    "name": "ipython",
    "version": 3
   },
   "file_extension": ".py",
   "mimetype": "text/x-python",
   "name": "python",
   "nbconvert_exporter": "python",
   "pygments_lexer": "ipython3",
   "version": "3.5.2"
  },
  "latex_envs": {
   "LaTeX_envs_menu_present": true,
   "bibliofile": "biblio.bib",
   "cite_by": "apalike",
   "current_citInitial": 1,
   "eqLabelWithNumbers": true,
   "eqNumInitial": 1,
   "labels_anchors": false,
   "latex_user_defs": false,
   "report_style_numbering": false,
   "user_envs_cfg": false
  }
 },
 "nbformat": 4,
 "nbformat_minor": 2
}
