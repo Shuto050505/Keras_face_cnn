{
 "cells": [
  {
   "cell_type": "code",
   "execution_count": 1,
   "metadata": {
    "ExecuteTime": {
     "end_time": "2017-03-10T05:38:19.375345",
     "start_time": "2017-03-10T05:38:16.777412"
    },
    "collapsed": false
   },
   "outputs": [
    {
     "name": "stderr",
     "output_type": "stream",
     "text": [
      "Using TensorFlow backend.\n"
     ]
    }
   ],
   "source": [
    "import numpy as np\n",
    "import cv2\n",
    "import matplotlib.pyplot as plt # matplotlibの描画系\n",
    "%matplotlib inline\n",
    "from keras.models import load_model"
   ]
  },
  {
   "cell_type": "code",
   "execution_count": 39,
   "metadata": {
    "ExecuteTime": {
     "end_time": "2017-03-10T05:50:14.645428",
     "start_time": "2017-03-10T05:50:14.638424"
    },
    "collapsed": true
   },
   "outputs": [],
   "source": [
    "img_path = \"./test/hayashi.jpg\"\n",
    "img_path = \"./test/1.jpeg\""
   ]
  },
  {
   "cell_type": "code",
   "execution_count": 40,
   "metadata": {
    "ExecuteTime": {
     "end_time": "2017-03-10T05:50:17.492238",
     "start_time": "2017-03-10T05:50:15.046177"
    },
    "collapsed": false
   },
   "outputs": [],
   "source": [
    "answer = {0:\"A\",1:\"B\",2:\"C\",3:\"D\",4:\"E\"}\n",
    "img_rows, img_cols = 56, 56\n",
    "model = load_model('4_model.h5')"
   ]
  },
  {
   "cell_type": "code",
   "execution_count": 41,
   "metadata": {
    "ExecuteTime": {
     "end_time": "2017-03-10T05:50:17.675636",
     "start_time": "2017-03-10T05:50:17.494243"
    },
    "collapsed": false
   },
   "outputs": [
    {
     "data": {
      "image/png": "[encoded data removed]",
      "text/plain": [
       "<matplotlib.figure.Figure at 0x20820705128>"
      ]
     },
     "metadata": {},
     "output_type": "display_data"
    }
   ],
   "source": [
    "#顔の最小値\n",
    "MinSize=(30,30)\n",
    "#画像読み込み\n",
    "img_raw = cv2.imread(img_path) # 画像を読み込む\n",
    "    \n",
    "#画像縮小\n",
    "height = img_raw.shape[0]\n",
    "width = img_raw.shape[1]\n",
    "\n",
    "img_gray = cv2.cvtColor(img_raw, cv2.COLOR_BGR2GRAY) # グレースケール化\n",
    "\n",
    "#顔認識(各画像スケールにおける縮小量,)\n",
    "# cascade の学習結果は https://github.com/Itseez/opencv/tree/master/data/haarcascades から落とせる\n",
    "cascade_path = \"haarcascade_frontalface_alt.xml\"\n",
    "cascade = cv2.CascadeClassifier(cascade_path) # カスケード分類器を作成\n",
    "facerect = cascade.detectMultiScale(img_gray, scaleFactor=1.2, minNeighbors=1, minSize=MinSize) \n",
    "\n",
    "test_image = []\n",
    "#顔だけ切り出して保存\n",
    "for rect in facerect:\n",
    "    x = rect[0]\n",
    "    y = rect[1]\n",
    "    width = rect[2]\n",
    "    height = rect[3]    \n",
    "    #cut\n",
    "    face = img_raw[y:y+height, x:x+width]\n",
    "    face = cv2.resize(face, (img_rows, img_cols))\n",
    "    show_img = cv2.cvtColor(face, cv2.COLOR_BGR2RGB) \n",
    "    plt.imshow(show_img) #表示\n",
    "    face = cv2.cvtColor(face, cv2.COLOR_BGR2GRAY) \n",
    "    test_image.append(face.flatten().astype(np.float32)/255.0)\n",
    "test_image = 1 - np.asarray(test_image)\n",
    "test_image = test_image.reshape(test_image.shape[0], img_rows, img_cols, 1)"
   ]
  },
  {
   "cell_type": "code",
   "execution_count": 42,
   "metadata": {
    "ExecuteTime": {
     "end_time": "2017-03-10T05:50:20.566613",
     "start_time": "2017-03-10T05:50:20.326232"
    },
    "collapsed": false
   },
   "outputs": [
    {
     "name": "stdout",
     "output_type": "stream",
     "text": [
      "1/1 [==============================] - 0s\n",
      "[2]\n"
     ]
    }
   ],
   "source": [
    "pre = model.predict_classes(test_image)\n",
    "print(pre)"
   ]
  },
  {
   "cell_type": "code",
   "execution_count": 43,
   "metadata": {
    "ExecuteTime": {
     "end_time": "2017-03-10T05:50:24.263707",
     "start_time": "2017-03-10T05:50:24.253701"
    },
    "collapsed": false
   },
   "outputs": [
    {
     "data": {
      "text/plain": [
       "array([[  6.75780054e-09,   2.44247667e-09,   9.99912620e-01,\n",
       "          8.73509343e-05,   3.08464972e-12]], dtype=float32)"
      ]
     },
     "execution_count": 43,
     "metadata": {},
     "output_type": "execute_result"
    }
   ],
   "source": [
    "model.predict(test_image)"
   ]
  },
  {
   "cell_type": "code",
   "execution_count": null,
   "metadata": {
    "collapsed": true
   },
   "outputs": [],
   "source": []
  }
 ],
 "metadata": {
  "kernelspec": {
   "display_name": "Python [conda root]",
   "language": "python",
   "name": "conda-root-py"
  },
  "language_info": {
   "codemirror_mode": {
    "name": "ipython",
    "version": 3
   },
   "file_extension": ".py",
   "mimetype": "text/x-python",
   "name": "python",
   "nbconvert_exporter": "python",
   "pygments_lexer": "ipython3",
   "version": "3.5.2"
  },
  "latex_envs": {
   "LaTeX_envs_menu_present": true,
   "bibliofile": "biblio.bib",
   "cite_by": "apalike",
   "current_citInitial": 1,
   "eqLabelWithNumbers": true,
   "eqNumInitial": 1,
   "labels_anchors": false,
   "latex_user_defs": false,
   "report_style_numbering": false,
   "user_envs_cfg": false
  }
 },
 "nbformat": 4,
 "nbformat_minor": 2
}
