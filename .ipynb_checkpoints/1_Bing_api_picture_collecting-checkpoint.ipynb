{
 "cells": [
  {
   "cell_type": "code",
   "execution_count": 1,
   "metadata": {
    "ExecuteTime": {
     "end_time": "2017-03-22T23:39:38.881581",
     "start_time": "2017-03-22T23:39:38.876591"
    },
    "collapsed": false
   },
   "outputs": [],
   "source": [
    "#Bing API を使用して画像収集を行う"
   ]
  },
  {
   "cell_type": "code",
   "execution_count": 2,
   "metadata": {
    "ExecuteTime": {
     "end_time": "2017-03-22T23:39:39.183427",
     "start_time": "2017-03-22T23:39:38.883582"
    },
    "collapsed": true
   },
   "outputs": [],
   "source": [
    "import requests\n",
    "import os\n",
    "import io\n",
    "import imghdr\n",
    "import uuid"
   ]
  },
  {
   "cell_type": "code",
   "execution_count": 3,
   "metadata": {
    "ExecuteTime": {
     "end_time": "2017-03-22T23:39:39.188395",
     "start_time": "2017-03-22T23:39:39.184403"
    },
    "collapsed": true
   },
   "outputs": [],
   "source": [
    "#検索\n",
    "keyword = ['古川渚' , '藤林杏' , '坂上智代' , '涼宮ハルヒ' , '朝比奈みくる' , '長門有希']\n",
    "#欲しい枚数(50の倍数)\n",
    "wantnum = 200"
   ]
  },
  {
   "cell_type": "code",
   "execution_count": 4,
   "metadata": {
    "ExecuteTime": {
     "end_time": "2017-03-22T23:39:39.205258",
     "start_time": "2017-03-22T23:39:39.190396"
    },
    "collapsed": true
   },
   "outputs": [],
   "source": [
    "# Bing Search APIの仕様で決まっている1リクエストあたりの画像取得最大枚数\n",
    "ONE_SEARCH_LIMIT = 50\n",
    "# Bing Search API URL\n",
    "ROOT_URL = 'https://api.cognitive.microsoft.com/bing/v5.0/images/search'\n",
    "# API\n",
    "API_KEY = '044b6a263d464b29b42c9f9e2c76f6d4'\n",
    "#Country\n",
    "MKT = 'ja-JP'\n",
    "# 画像のダウンロードのタイムアウト(秒)\n",
    "TIMEOUT = 5\n",
    "# ダウンロードした画像を格納するディレクトリ名\n",
    "SAVE_DIR = 'ims'"
   ]
  },
  {
   "cell_type": "code",
   "execution_count": 5,
   "metadata": {
    "ExecuteTime": {
     "end_time": "2017-03-22T23:39:39.221287",
     "start_time": "2017-03-22T23:39:39.208756"
    },
    "collapsed": true
   },
   "outputs": [],
   "source": [
    "def bing_search(query,offset):\n",
    "    # headers\n",
    "    headers = {'Ocp-Apim-Subscription-Key': API_KEY}\n",
    "    #parameters: query offset country count\n",
    "    payload = {'q': query, 'offset': offset, 'mkt': MKT, 'count': ONE_SEARCH_LIMIT}\n",
    "    # make GET request\n",
    "    result = requests.get(ROOT_URL, params=payload, headers=headers)\n",
    "    # get JSON response\n",
    "    return result.json()"
   ]
  },
  {
   "cell_type": "code",
   "execution_count": 6,
   "metadata": {
    "ExecuteTime": {
     "end_time": "2017-03-22T23:55:01.586719",
     "start_time": "2017-03-22T23:39:39.223291"
    },
    "collapsed": true
   },
   "outputs": [],
   "source": [
    "step = 1\n",
    "SAVE_DIR1 = \"o_picts\"\n",
    "if not os.path.isdir(SAVE_DIR1):\n",
    "    os.mkdir(SAVE_DIR1)\n",
    "    \n",
    "for key in keyword:\n",
    "    pnum = 0\n",
    "    for i in range(wantnum // ONE_SEARCH_LIMIT):\n",
    "        #リクエスト\n",
    "        response = bing_search(key, ONE_SEARCH_LIMIT * i)    \n",
    "    \n",
    "        for result in response.get('value', {}):\n",
    "            #画像のURL\n",
    "            image_url = result['contentUrl']        \n",
    "            #画像ダウンロード\n",
    "            try:\n",
    "                response_image = requests.get(image_url, timeout=TIMEOUT)\n",
    "                image_binary = response_image.content\n",
    "            except:\n",
    "                continue\n",
    "\n",
    "            #画像形式フィルタ\n",
    "            with io.BytesIO(image_binary) as fh:\n",
    "                image_type = imghdr.what(fh)\n",
    "\n",
    "                if image_type == 'jpeg':\n",
    "                    extension = '.jpg'\n",
    "                    pnum += 1\n",
    "                elif image_type == 'png':\n",
    "                    extension = '.png'\n",
    "                    pnum += 1\n",
    "                else:\n",
    "                    continue\n",
    "                #filename = str(uuid.uuid4()) + extension\n",
    "                filename = str(pnum) + extension\n",
    "\n",
    "            #画像保存\n",
    "            save_dir = SAVE_DIR1+\"/\"+SAVE_DIR + '_' + str(step)\n",
    "            if not os.path.isdir(save_dir):\n",
    "                os.mkdir(save_dir)\n",
    "            with open(os.path.join(save_dir, filename), 'wb') as f:\n",
    "                f.write(image_binary)\n",
    "    step += 1"
   ]
  },
  {
   "cell_type": "code",
   "execution_count": 7,
   "metadata": {
    "ExecuteTime": {
     "end_time": "2017-03-22T23:55:01.592741",
     "start_time": "2017-03-22T23:55:01.588720"
    },
    "collapsed": false
   },
   "outputs": [],
   "source": [
    "#response_json.get('value', {})[34]['contentUrl']"
   ]
  },
  {
   "cell_type": "code",
   "execution_count": 8,
   "metadata": {
    "ExecuteTime": {
     "end_time": "2017-03-22T23:55:01.613738",
     "start_time": "2017-03-22T23:55:01.594725"
    },
    "collapsed": false
   },
   "outputs": [
    {
     "name": "stdout",
     "output_type": "stream",
     "text": [
      "https://www.microsoft.com/cognitive-services/en-us/\n",
      "https://msdn.microsoft.com/en-us/library/dn783426.aspx\n",
      "http://so-zou.jp/web-app/tech/web-api/bing/search/web-search.htm\n",
      "http://techblog.adish.co.jp/entry/2016/07/07/Python%E3%81%A7Bing_Search_API%E3%82%92%E4%BD%BF%E3%81%A3%E3%81%A6%E7%94%BB%E5%83%8F%E3%83%87%E3%83%BC%E3%82%BF%E3%82%92%E9%9B%86%E3%82%81%E3%82%8B%E6%96%B9%E6%B3%95\n"
     ]
    }
   ],
   "source": [
    "#参考したページ\n",
    "#API\n",
    "url1 = \"https://www.microsoft.com/cognitive-services/en-us/\"\n",
    "#MKT\n",
    "url2 = \"https://msdn.microsoft.com/en-us/library/dn783426.aspx\"\n",
    "#parameter\n",
    "url3 = \"http://so-zou.jp/web-app/tech/web-api/bing/search/web-search.htm\"\n",
    "#base\n",
    "url4 = \"http://techblog.adish.co.jp/entry/2016/07/07/Python%E3%81%A7Bing_Search_API%E3%82%92%E4%BD%BF%E3%81%A3%E3%81%A6%E7%94%BB%E5%83%8F%E3%83%87%E3%83%BC%E3%82%BF%E3%82%92%E9%9B%86%E3%82%81%E3%82%8B%E6%96%B9%E6%B3%95\"\n",
    "print(url1)\n",
    "print(url2)\n",
    "print(url3)\n",
    "print(url4)"
   ]
  },
  {
   "cell_type": "code",
   "execution_count": null,
   "metadata": {
    "collapsed": true
   },
   "outputs": [],
   "source": []
  }
 ],
 "metadata": {
  "kernelspec": {
   "display_name": "Python [conda root]",
   "language": "python",
   "name": "conda-root-py"
  },
  "language_info": {
   "codemirror_mode": {
    "name": "ipython",
    "version": 3
   },
   "file_extension": ".py",
   "mimetype": "text/x-python",
   "name": "python",
   "nbconvert_exporter": "python",
   "pygments_lexer": "ipython3",
   "version": "3.5.2"
  },
  "latex_envs": {
   "LaTeX_envs_menu_present": true,
   "bibliofile": "biblio.bib",
   "cite_by": "apalike",
   "current_citInitial": 1,
   "eqLabelWithNumbers": true,
   "eqNumInitial": 1,
   "labels_anchors": false,
   "latex_user_defs": false,
   "report_style_numbering": false,
   "user_envs_cfg": false
  }
 },
 "nbformat": 4,
 "nbformat_minor": 2
}
